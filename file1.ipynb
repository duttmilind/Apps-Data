{
 "cells": [
  {
   "cell_type": "markdown",
   "id": "1f5ba58d",
   "metadata": {},
   "source": [
    "1. Import required libraries and read the dataset"
   ]
  },
  {
   "cell_type": "code",
   "execution_count": 1,
   "id": "168931bf",
   "metadata": {},
   "outputs": [],
   "source": [
    "import pandas as pd  # for pandas\n",
    "import numpy as np   # for numpy\n",
    "import matplotlib.pyplot as plt #for matplot \n",
    "%matplotlib inline\n",
    "import seaborn as sns # for seaborn\n",
    "\n",
    "# for sklearn liberaries\n",
    "from sklearn.linear_model import LinearRegression\n",
    "from sklearn.model_selection import train_test_split\n",
    "from sklearn.preprocessing import LabelEncoder\n",
    "from scipy.stats import zscore  # for zscore\n",
    "from sklearn.preprocessing import StandardScaler # for standardization\n",
    "import statsmodels.formula.api as smf\n",
    "from statsmodels.stats.outliers_influence import variance_inflation_factor\n",
    "import math as mt\n",
    "\n",
    "import warnings\n",
    "warnings.filterwarnings(\"ignore\")\n"
   ]
  },
  {
   "cell_type": "markdown",
   "id": "a4bac5b6",
   "metadata": {},
   "source": [
    "2. Check the first few samples, shape, info of the data and try to familiarize yourself with different features."
   ]
  },
  {
   "cell_type": "code",
   "execution_count": 2,
   "id": "529a741c",
   "metadata": {},
   "outputs": [
    {
     "data": {
      "text/html": [
       "<div>\n",
       "<style scoped>\n",
       "    .dataframe tbody tr th:only-of-type {\n",
       "        vertical-align: middle;\n",
       "    }\n",
       "\n",
       "    .dataframe tbody tr th {\n",
       "        vertical-align: top;\n",
       "    }\n",
       "\n",
       "    .dataframe thead th {\n",
       "        text-align: right;\n",
       "    }\n",
       "</style>\n",
       "<table border=\"1\" class=\"dataframe\">\n",
       "  <thead>\n",
       "    <tr style=\"text-align: right;\">\n",
       "      <th></th>\n",
       "      <th>App</th>\n",
       "      <th>Category</th>\n",
       "      <th>Rating</th>\n",
       "      <th>Reviews</th>\n",
       "      <th>Size</th>\n",
       "      <th>Installs</th>\n",
       "      <th>Type</th>\n",
       "      <th>Price</th>\n",
       "      <th>Content Rating</th>\n",
       "      <th>Genres</th>\n",
       "      <th>Last Updated</th>\n",
       "      <th>Current Ver</th>\n",
       "      <th>Android Ver</th>\n",
       "    </tr>\n",
       "  </thead>\n",
       "  <tbody>\n",
       "    <tr>\n",
       "      <th>0</th>\n",
       "      <td>Photo Editor &amp; Candy Camera &amp; Grid &amp; ScrapBook</td>\n",
       "      <td>ART_AND_DESIGN</td>\n",
       "      <td>4.1</td>\n",
       "      <td>159</td>\n",
       "      <td>19M</td>\n",
       "      <td>10,000+</td>\n",
       "      <td>Free</td>\n",
       "      <td>0</td>\n",
       "      <td>Everyone</td>\n",
       "      <td>Art &amp; Design</td>\n",
       "      <td>January 7, 2018</td>\n",
       "      <td>1.0.0</td>\n",
       "      <td>4.0.3 and up</td>\n",
       "    </tr>\n",
       "    <tr>\n",
       "      <th>1</th>\n",
       "      <td>Coloring book moana</td>\n",
       "      <td>ART_AND_DESIGN</td>\n",
       "      <td>3.9</td>\n",
       "      <td>967</td>\n",
       "      <td>14M</td>\n",
       "      <td>500,000+</td>\n",
       "      <td>Free</td>\n",
       "      <td>0</td>\n",
       "      <td>Everyone</td>\n",
       "      <td>Art &amp; Design;Pretend Play</td>\n",
       "      <td>January 15, 2018</td>\n",
       "      <td>2.0.0</td>\n",
       "      <td>4.0.3 and up</td>\n",
       "    </tr>\n",
       "    <tr>\n",
       "      <th>2</th>\n",
       "      <td>U Launcher Lite – FREE Live Cool Themes, Hide ...</td>\n",
       "      <td>ART_AND_DESIGN</td>\n",
       "      <td>4.7</td>\n",
       "      <td>87510</td>\n",
       "      <td>8.7M</td>\n",
       "      <td>5,000,000+</td>\n",
       "      <td>Free</td>\n",
       "      <td>0</td>\n",
       "      <td>Everyone</td>\n",
       "      <td>Art &amp; Design</td>\n",
       "      <td>August 1, 2018</td>\n",
       "      <td>1.2.4</td>\n",
       "      <td>4.0.3 and up</td>\n",
       "    </tr>\n",
       "    <tr>\n",
       "      <th>3</th>\n",
       "      <td>Sketch - Draw &amp; Paint</td>\n",
       "      <td>ART_AND_DESIGN</td>\n",
       "      <td>4.5</td>\n",
       "      <td>215644</td>\n",
       "      <td>25M</td>\n",
       "      <td>50,000,000+</td>\n",
       "      <td>Free</td>\n",
       "      <td>0</td>\n",
       "      <td>Teen</td>\n",
       "      <td>Art &amp; Design</td>\n",
       "      <td>June 8, 2018</td>\n",
       "      <td>Varies with device</td>\n",
       "      <td>4.2 and up</td>\n",
       "    </tr>\n",
       "    <tr>\n",
       "      <th>4</th>\n",
       "      <td>Pixel Draw - Number Art Coloring Book</td>\n",
       "      <td>ART_AND_DESIGN</td>\n",
       "      <td>4.3</td>\n",
       "      <td>967</td>\n",
       "      <td>2.8M</td>\n",
       "      <td>100,000+</td>\n",
       "      <td>Free</td>\n",
       "      <td>0</td>\n",
       "      <td>Everyone</td>\n",
       "      <td>Art &amp; Design;Creativity</td>\n",
       "      <td>June 20, 2018</td>\n",
       "      <td>1.1</td>\n",
       "      <td>4.4 and up</td>\n",
       "    </tr>\n",
       "  </tbody>\n",
       "</table>\n",
       "</div>"
      ],
      "text/plain": [
       "                                                 App        Category  Rating  \\\n",
       "0     Photo Editor & Candy Camera & Grid & ScrapBook  ART_AND_DESIGN     4.1   \n",
       "1                                Coloring book moana  ART_AND_DESIGN     3.9   \n",
       "2  U Launcher Lite – FREE Live Cool Themes, Hide ...  ART_AND_DESIGN     4.7   \n",
       "3                              Sketch - Draw & Paint  ART_AND_DESIGN     4.5   \n",
       "4              Pixel Draw - Number Art Coloring Book  ART_AND_DESIGN     4.3   \n",
       "\n",
       "  Reviews  Size     Installs  Type Price Content Rating  \\\n",
       "0     159   19M      10,000+  Free     0       Everyone   \n",
       "1     967   14M     500,000+  Free     0       Everyone   \n",
       "2   87510  8.7M   5,000,000+  Free     0       Everyone   \n",
       "3  215644   25M  50,000,000+  Free     0           Teen   \n",
       "4     967  2.8M     100,000+  Free     0       Everyone   \n",
       "\n",
       "                      Genres      Last Updated         Current Ver  \\\n",
       "0               Art & Design   January 7, 2018               1.0.0   \n",
       "1  Art & Design;Pretend Play  January 15, 2018               2.0.0   \n",
       "2               Art & Design    August 1, 2018               1.2.4   \n",
       "3               Art & Design      June 8, 2018  Varies with device   \n",
       "4    Art & Design;Creativity     June 20, 2018                 1.1   \n",
       "\n",
       "    Android Ver  \n",
       "0  4.0.3 and up  \n",
       "1  4.0.3 and up  \n",
       "2  4.0.3 and up  \n",
       "3    4.2 and up  \n",
       "4    4.4 and up  "
      ]
     },
     "execution_count": 2,
     "metadata": {},
     "output_type": "execute_result"
    }
   ],
   "source": [
    "df=pd.read_csv(\"Apps_data+(1).csv\")\n",
    "sf=df.copy()\n",
    "sf.head()"
   ]
  },
  {
   "cell_type": "code",
   "execution_count": 3,
   "id": "2ceba3a0",
   "metadata": {},
   "outputs": [
    {
     "data": {
      "text/plain": [
       "(10841, 13)"
      ]
     },
     "execution_count": 3,
     "metadata": {},
     "output_type": "execute_result"
    }
   ],
   "source": [
    "sf.shape"
   ]
  },
  {
   "cell_type": "code",
   "execution_count": 4,
   "id": "127dc9f7",
   "metadata": {},
   "outputs": [
    {
     "name": "stdout",
     "output_type": "stream",
     "text": [
      "<class 'pandas.core.frame.DataFrame'>\n",
      "RangeIndex: 10841 entries, 0 to 10840\n",
      "Data columns (total 13 columns):\n",
      " #   Column          Non-Null Count  Dtype  \n",
      "---  ------          --------------  -----  \n",
      " 0   App             10841 non-null  object \n",
      " 1   Category        10841 non-null  object \n",
      " 2   Rating          9367 non-null   float64\n",
      " 3   Reviews         10841 non-null  object \n",
      " 4   Size            10841 non-null  object \n",
      " 5   Installs        10841 non-null  object \n",
      " 6   Type            10840 non-null  object \n",
      " 7   Price           10841 non-null  object \n",
      " 8   Content Rating  10840 non-null  object \n",
      " 9   Genres          10841 non-null  object \n",
      " 10  Last Updated    10841 non-null  object \n",
      " 11  Current Ver     10833 non-null  object \n",
      " 12  Android Ver     10838 non-null  object \n",
      "dtypes: float64(1), object(12)\n",
      "memory usage: 1.1+ MB\n"
     ]
    }
   ],
   "source": [
    "sf.info()"
   ]
  },
  {
   "cell_type": "markdown",
   "id": "5b01e973",
   "metadata": {},
   "source": [
    "# Inference:-\n",
    "1.Rating columns,Current Ver,Android Ver,Content Rating contains null values:-\n",
    "2.Our Dataset contains 13 colunms and 10841 rows.\n",
    "3.There are 12 Object type fetaures and 1 (Rating) float type features"
   ]
  },
  {
   "cell_type": "markdown",
   "id": "a59ff259",
   "metadata": {},
   "source": [
    "3. Check summary statistics of the dataset. List out the columns that need to be worked upon for model\n",
    "building."
   ]
  },
  {
   "cell_type": "code",
   "execution_count": 5,
   "id": "9e381441",
   "metadata": {},
   "outputs": [
    {
     "data": {
      "text/html": [
       "<div>\n",
       "<style scoped>\n",
       "    .dataframe tbody tr th:only-of-type {\n",
       "        vertical-align: middle;\n",
       "    }\n",
       "\n",
       "    .dataframe tbody tr th {\n",
       "        vertical-align: top;\n",
       "    }\n",
       "\n",
       "    .dataframe thead th {\n",
       "        text-align: right;\n",
       "    }\n",
       "</style>\n",
       "<table border=\"1\" class=\"dataframe\">\n",
       "  <thead>\n",
       "    <tr style=\"text-align: right;\">\n",
       "      <th></th>\n",
       "      <th>Rating</th>\n",
       "    </tr>\n",
       "  </thead>\n",
       "  <tbody>\n",
       "    <tr>\n",
       "      <th>count</th>\n",
       "      <td>9367.000000</td>\n",
       "    </tr>\n",
       "    <tr>\n",
       "      <th>mean</th>\n",
       "      <td>4.193338</td>\n",
       "    </tr>\n",
       "    <tr>\n",
       "      <th>std</th>\n",
       "      <td>0.537431</td>\n",
       "    </tr>\n",
       "    <tr>\n",
       "      <th>min</th>\n",
       "      <td>1.000000</td>\n",
       "    </tr>\n",
       "    <tr>\n",
       "      <th>25%</th>\n",
       "      <td>4.000000</td>\n",
       "    </tr>\n",
       "    <tr>\n",
       "      <th>50%</th>\n",
       "      <td>4.300000</td>\n",
       "    </tr>\n",
       "    <tr>\n",
       "      <th>75%</th>\n",
       "      <td>4.500000</td>\n",
       "    </tr>\n",
       "    <tr>\n",
       "      <th>max</th>\n",
       "      <td>19.000000</td>\n",
       "    </tr>\n",
       "  </tbody>\n",
       "</table>\n",
       "</div>"
      ],
      "text/plain": [
       "            Rating\n",
       "count  9367.000000\n",
       "mean      4.193338\n",
       "std       0.537431\n",
       "min       1.000000\n",
       "25%       4.000000\n",
       "50%       4.300000\n",
       "75%       4.500000\n",
       "max      19.000000"
      ]
     },
     "execution_count": 5,
     "metadata": {},
     "output_type": "execute_result"
    }
   ],
   "source": [
    "sf.describe()"
   ]
  },
  {
   "cell_type": "markdown",
   "id": "acb064e3",
   "metadata": {},
   "source": [
    "# Inference:-\n",
    "1.Meadian is greater than mean for  Rating feature so it may happen that it is an negatively skewed data"
   ]
  },
  {
   "cell_type": "code",
   "execution_count": 6,
   "id": "ed310c36",
   "metadata": {},
   "outputs": [
    {
     "data": {
      "text/html": [
       "<div>\n",
       "<style scoped>\n",
       "    .dataframe tbody tr th:only-of-type {\n",
       "        vertical-align: middle;\n",
       "    }\n",
       "\n",
       "    .dataframe tbody tr th {\n",
       "        vertical-align: top;\n",
       "    }\n",
       "\n",
       "    .dataframe thead th {\n",
       "        text-align: right;\n",
       "    }\n",
       "</style>\n",
       "<table border=\"1\" class=\"dataframe\">\n",
       "  <thead>\n",
       "    <tr style=\"text-align: right;\">\n",
       "      <th></th>\n",
       "      <th>App</th>\n",
       "      <th>Category</th>\n",
       "      <th>Reviews</th>\n",
       "      <th>Size</th>\n",
       "      <th>Installs</th>\n",
       "      <th>Type</th>\n",
       "      <th>Price</th>\n",
       "      <th>Content Rating</th>\n",
       "      <th>Genres</th>\n",
       "      <th>Last Updated</th>\n",
       "      <th>Current Ver</th>\n",
       "      <th>Android Ver</th>\n",
       "    </tr>\n",
       "  </thead>\n",
       "  <tbody>\n",
       "    <tr>\n",
       "      <th>count</th>\n",
       "      <td>10841</td>\n",
       "      <td>10841</td>\n",
       "      <td>10841</td>\n",
       "      <td>10841</td>\n",
       "      <td>10841</td>\n",
       "      <td>10840</td>\n",
       "      <td>10841</td>\n",
       "      <td>10840</td>\n",
       "      <td>10841</td>\n",
       "      <td>10841</td>\n",
       "      <td>10833</td>\n",
       "      <td>10838</td>\n",
       "    </tr>\n",
       "    <tr>\n",
       "      <th>unique</th>\n",
       "      <td>9660</td>\n",
       "      <td>34</td>\n",
       "      <td>6002</td>\n",
       "      <td>462</td>\n",
       "      <td>22</td>\n",
       "      <td>3</td>\n",
       "      <td>93</td>\n",
       "      <td>6</td>\n",
       "      <td>120</td>\n",
       "      <td>1378</td>\n",
       "      <td>2832</td>\n",
       "      <td>33</td>\n",
       "    </tr>\n",
       "    <tr>\n",
       "      <th>top</th>\n",
       "      <td>ROBLOX</td>\n",
       "      <td>FAMILY</td>\n",
       "      <td>0</td>\n",
       "      <td>Varies with device</td>\n",
       "      <td>1,000,000+</td>\n",
       "      <td>Free</td>\n",
       "      <td>0</td>\n",
       "      <td>Everyone</td>\n",
       "      <td>Tools</td>\n",
       "      <td>August 3, 2018</td>\n",
       "      <td>Varies with device</td>\n",
       "      <td>4.1 and up</td>\n",
       "    </tr>\n",
       "    <tr>\n",
       "      <th>freq</th>\n",
       "      <td>9</td>\n",
       "      <td>1972</td>\n",
       "      <td>596</td>\n",
       "      <td>1695</td>\n",
       "      <td>1579</td>\n",
       "      <td>10039</td>\n",
       "      <td>10040</td>\n",
       "      <td>8714</td>\n",
       "      <td>842</td>\n",
       "      <td>326</td>\n",
       "      <td>1459</td>\n",
       "      <td>2451</td>\n",
       "    </tr>\n",
       "  </tbody>\n",
       "</table>\n",
       "</div>"
      ],
      "text/plain": [
       "           App Category Reviews                Size    Installs   Type  Price  \\\n",
       "count    10841    10841   10841               10841       10841  10840  10841   \n",
       "unique    9660       34    6002                 462          22      3     93   \n",
       "top     ROBLOX   FAMILY       0  Varies with device  1,000,000+   Free      0   \n",
       "freq         9     1972     596                1695        1579  10039  10040   \n",
       "\n",
       "       Content Rating Genres    Last Updated         Current Ver Android Ver  \n",
       "count           10840  10841           10841               10833       10838  \n",
       "unique              6    120            1378                2832          33  \n",
       "top          Everyone  Tools  August 3, 2018  Varies with device  4.1 and up  \n",
       "freq             8714    842             326                1459        2451  "
      ]
     },
     "execution_count": 6,
     "metadata": {},
     "output_type": "execute_result"
    }
   ],
   "source": [
    "sf.describe(include=['object'])"
   ]
  },
  {
   "cell_type": "code",
   "execution_count": null,
   "id": "ddfee709",
   "metadata": {},
   "outputs": [],
   "source": []
  },
  {
   "cell_type": "code",
   "execution_count": 8,
   "id": "a8ad2974",
   "metadata": {},
   "outputs": [],
   "source": [
    "#sf['Rating'].mean()"
   ]
  },
  {
   "cell_type": "code",
   "execution_count": 9,
   "id": "60c842f8",
   "metadata": {},
   "outputs": [],
   "source": [
    "#sf.Rating.fillna(sf['Rating'].mean(),inplace=True)"
   ]
  },
  {
   "cell_type": "code",
   "execution_count": 10,
   "id": "318a257f",
   "metadata": {},
   "outputs": [],
   "source": [
    "#sf.dropna(inplace=True)"
   ]
  },
  {
   "cell_type": "code",
   "execution_count": 11,
   "id": "b8863a0b",
   "metadata": {},
   "outputs": [],
   "source": [
    "#sf.isna().sum()"
   ]
  },
  {
   "cell_type": "code",
   "execution_count": 12,
   "id": "66653126",
   "metadata": {},
   "outputs": [],
   "source": [
    "#ch=pd.DataFrame(sf.App.str.isalpha()) #no garbage value\n",
    "#ch[ch['App']==False].sum()"
   ]
  },
  {
   "cell_type": "markdown",
   "id": "8d1d6135",
   "metadata": {},
   "source": [
    "# Inference:-\n",
    "1.Feature variable Category ,Type,content_Rating can be encoded as they are object type with the help of Label Encoder,One hot encoder"
   ]
  },
  {
   "cell_type": "markdown",
   "id": "bb5e78b6",
   "metadata": {},
   "source": [
    "4. Check if there are any duplicate records in the dataset? if any drop them."
   ]
  },
  {
   "cell_type": "code",
   "execution_count": 7,
   "id": "8ab824fa",
   "metadata": {},
   "outputs": [
    {
     "data": {
      "text/plain": [
       "483"
      ]
     },
     "execution_count": 7,
     "metadata": {},
     "output_type": "execute_result"
    }
   ],
   "source": [
    "sf.duplicated().sum()"
   ]
  },
  {
   "cell_type": "code",
   "execution_count": 8,
   "id": "de85235f",
   "metadata": {},
   "outputs": [],
   "source": [
    "sf.drop_duplicates(inplace=True)"
   ]
  },
  {
   "cell_type": "code",
   "execution_count": 9,
   "id": "b7c9e380",
   "metadata": {},
   "outputs": [
    {
     "data": {
      "text/plain": [
       "0"
      ]
     },
     "execution_count": 9,
     "metadata": {},
     "output_type": "execute_result"
    }
   ],
   "source": [
    "sf.duplicated().sum()"
   ]
  },
  {
   "cell_type": "markdown",
   "id": "24ebc744",
   "metadata": {},
   "source": [
    "# Inference:-\n",
    "1.Our data set contains 483 duplicated values so we can actually drop them"
   ]
  },
  {
   "cell_type": "markdown",
   "id": "ddffdfb4",
   "metadata": {},
   "source": [
    "5. Check the unique categories of the column 'Category', Is there any invalid category? If yes, drop them"
   ]
  },
  {
   "cell_type": "code",
   "execution_count": 10,
   "id": "7f598ed3",
   "metadata": {},
   "outputs": [
    {
     "data": {
      "text/plain": [
       "array(['ART_AND_DESIGN', 'AUTO_AND_VEHICLES', 'BEAUTY',\n",
       "       'BOOKS_AND_REFERENCE', 'BUSINESS', 'COMICS', 'COMMUNICATION',\n",
       "       'DATING', 'EDUCATION', 'ENTERTAINMENT', 'EVENTS', 'FINANCE',\n",
       "       'FOOD_AND_DRINK', 'HEALTH_AND_FITNESS', 'HOUSE_AND_HOME',\n",
       "       'LIBRARIES_AND_DEMO', 'LIFESTYLE', 'GAME', 'FAMILY', 'MEDICAL',\n",
       "       'SOCIAL', 'SHOPPING', 'PHOTOGRAPHY', 'SPORTS', 'TRAVEL_AND_LOCAL',\n",
       "       'TOOLS', 'PERSONALIZATION', 'PRODUCTIVITY', 'PARENTING', 'WEATHER',\n",
       "       'VIDEO_PLAYERS', 'NEWS_AND_MAGAZINES', 'MAPS_AND_NAVIGATION',\n",
       "       '1.9'], dtype=object)"
      ]
     },
     "execution_count": 10,
     "metadata": {},
     "output_type": "execute_result"
    }
   ],
   "source": [
    "sf.Category.unique()"
   ]
  },
  {
   "cell_type": "code",
   "execution_count": 1,
   "id": "c738a749",
   "metadata": {},
   "outputs": [],
   "source": [
    "#"
   ]
  },
  {
   "cell_type": "code",
   "execution_count": 11,
   "id": "462f552c",
   "metadata": {},
   "outputs": [],
   "source": [
    "sf.Category.replace({'1.9':np.nan},inplace=True)"
   ]
  },
  {
   "cell_type": "code",
   "execution_count": 12,
   "id": "a2f6455d",
   "metadata": {},
   "outputs": [
    {
     "data": {
      "text/plain": [
       "array(['ART_AND_DESIGN', 'AUTO_AND_VEHICLES', 'BEAUTY',\n",
       "       'BOOKS_AND_REFERENCE', 'BUSINESS', 'COMICS', 'COMMUNICATION',\n",
       "       'DATING', 'EDUCATION', 'ENTERTAINMENT', 'EVENTS', 'FINANCE',\n",
       "       'FOOD_AND_DRINK', 'HEALTH_AND_FITNESS', 'HOUSE_AND_HOME',\n",
       "       'LIBRARIES_AND_DEMO', 'LIFESTYLE', 'GAME', 'FAMILY', 'MEDICAL',\n",
       "       'SOCIAL', 'SHOPPING', 'PHOTOGRAPHY', 'SPORTS', 'TRAVEL_AND_LOCAL',\n",
       "       'TOOLS', 'PERSONALIZATION', 'PRODUCTIVITY', 'PARENTING', 'WEATHER',\n",
       "       'VIDEO_PLAYERS', 'NEWS_AND_MAGAZINES', 'MAPS_AND_NAVIGATION', nan],\n",
       "      dtype=object)"
      ]
     },
     "execution_count": 12,
     "metadata": {},
     "output_type": "execute_result"
    }
   ],
   "source": [
    "sf.Category.unique()"
   ]
  },
  {
   "cell_type": "markdown",
   "id": "99cd5103",
   "metadata": {},
   "source": [
    "# inference \n",
    "1.The feature variable category conatins 1.9 as invalid category we have replced it with null values."
   ]
  },
  {
   "cell_type": "markdown",
   "id": "1967cc82",
   "metadata": {},
   "source": [
    "6. Check if there are missing values present in the column Rating, If any? drop them and and create a new\n",
    "column as 'Rating_category' by converting ratings to high and low categories(>3.5 is high rest low)"
   ]
  },
  {
   "cell_type": "code",
   "execution_count": 13,
   "id": "711e9b9a",
   "metadata": {},
   "outputs": [
    {
     "data": {
      "text/plain": [
       "App                  0\n",
       "Category             1\n",
       "Rating            1465\n",
       "Reviews              0\n",
       "Size                 0\n",
       "Installs             0\n",
       "Type                 1\n",
       "Price                0\n",
       "Content Rating       1\n",
       "Genres               0\n",
       "Last Updated         0\n",
       "Current Ver          8\n",
       "Android Ver          3\n",
       "dtype: int64"
      ]
     },
     "execution_count": 13,
     "metadata": {},
     "output_type": "execute_result"
    }
   ],
   "source": [
    "sf.isna().sum()"
   ]
  },
  {
   "cell_type": "code",
   "execution_count": 14,
   "id": "fcec1568",
   "metadata": {},
   "outputs": [],
   "source": [
    "sf.dropna(inplace=True)"
   ]
  },
  {
   "cell_type": "code",
   "execution_count": 15,
   "id": "5d8cc972",
   "metadata": {},
   "outputs": [
    {
     "data": {
      "text/plain": [
       "App               0\n",
       "Category          0\n",
       "Rating            0\n",
       "Reviews           0\n",
       "Size              0\n",
       "Installs          0\n",
       "Type              0\n",
       "Price             0\n",
       "Content Rating    0\n",
       "Genres            0\n",
       "Last Updated      0\n",
       "Current Ver       0\n",
       "Android Ver       0\n",
       "dtype: int64"
      ]
     },
     "execution_count": 15,
     "metadata": {},
     "output_type": "execute_result"
    }
   ],
   "source": [
    "sf.isna().sum()"
   ]
  },
  {
   "cell_type": "code",
   "execution_count": 16,
   "id": "5eda9332",
   "metadata": {},
   "outputs": [
    {
     "data": {
      "text/plain": [
       "App    0\n",
       "dtype: int64"
      ]
     },
     "execution_count": 16,
     "metadata": {},
     "output_type": "execute_result"
    }
   ],
   "source": [
    "ch=pd.DataFrame(sf.App.str.isalpha()) #no garbage value\n",
    "ch[ch['App']==False].sum()"
   ]
  },
  {
   "cell_type": "code",
   "execution_count": 17,
   "id": "4a83c44b",
   "metadata": {},
   "outputs": [
    {
     "data": {
      "text/plain": [
       "array([4.1, 3.9, 4.7, 4.5, 4.3, 4.4, 3.8, 4.2, 4.6, 4. , 4.8, 4.9, 3.6,\n",
       "       3.7, 3.2, 3.3, 3.4, 3.5, 3.1, 5. , 2.6, 3. , 1.9, 2.5, 2.8, 2.7,\n",
       "       1. , 2.9, 2.3, 2.2, 1.7, 2. , 1.8, 2.4, 1.6, 2.1, 1.4, 1.5, 1.2])"
      ]
     },
     "execution_count": 17,
     "metadata": {},
     "output_type": "execute_result"
    }
   ],
   "source": [
    "sf.Rating.unique()"
   ]
  },
  {
   "cell_type": "code",
   "execution_count": null,
   "id": "911eb4eb",
   "metadata": {},
   "outputs": [],
   "source": []
  },
  {
   "cell_type": "code",
   "execution_count": 18,
   "id": "5e1cc3cd",
   "metadata": {},
   "outputs": [],
   "source": [
    "def check(Rating):\n",
    "    if Rating<=3.5:\n",
    "        return 'low'\n",
    "    else:\n",
    "        return 'high'\n",
    "sf['Rating_category']=sf['Rating'].apply(check)\n",
    "#sf.drop(columns='Rating',inplace=True)"
   ]
  },
  {
   "cell_type": "markdown",
   "id": "8b8eeb1d",
   "metadata": {},
   "source": [
    "# inference:-\n",
    "1.As we can there are 1465,11,,1,8,3 null entries in dataset in the feature variable. Rating,category,type,content_rating,current ver,android ver respectively. so we can drop them actually.\n",
    "2.As in the rtaing feature some of values are above 3.5 and some of them are below so we can actually  encode them with high and low."
   ]
  },
  {
   "cell_type": "markdown",
   "id": "d3ebbda4",
   "metadata": {},
   "source": [
    "7. Check the distribution of the newly created column 'Rating_category' and comment on the distribution"
   ]
  },
  {
   "cell_type": "code",
   "execution_count": 19,
   "id": "822d076e",
   "metadata": {},
   "outputs": [
    {
     "data": {
      "image/png": "[encoded data removed]",
      "text/plain": [
       "<Figure size 640x480 with 1 Axes>"
      ]
     },
     "metadata": {},
     "output_type": "display_data"
    }
   ],
   "source": [
    "#plt.bar(sf['Rating_category'])\n",
    "sf.Rating_category.value_counts().plot(kind='bar', rot = 0, color = 'green')\n",
    "\n",
    "plt.text(x = -0.05, y = sf.Rating_category.value_counts()[0]+1, s =sf.Rating_category.value_counts()[0])\n",
    "plt.text(x = 0.98, y =sf.Rating_category.value_counts()[1]+2, s =sf.Rating_category.value_counts()[1])\n",
    "plt.title('Distribution of Categories')\n",
    "plt.xlabel('Category')\n",
    "plt.ylabel('Count')\n",
    "plt.show()"
   ]
  },
  {
   "cell_type": "markdown",
   "id": "9c906743",
   "metadata": {},
   "source": [
    "# Inference:-\n",
    "1.The frequency of High category is actually greater (8007) as compared to low category which is 879."
   ]
  },
  {
   "cell_type": "markdown",
   "id": "ca1001c1",
   "metadata": {},
   "source": [
    "8. Convert the column \"Reviews'' to numeric data type and check the presence of outliers in the column and\n",
    "handle the outliers using a transformation approach."
   ]
  },
  {
   "cell_type": "code",
   "execution_count": 20,
   "id": "2358169d",
   "metadata": {},
   "outputs": [],
   "source": [
    "sf['Reviews']=sf.Reviews.astype(int)"
   ]
  },
  {
   "cell_type": "code",
   "execution_count": 21,
   "id": "ca77d506",
   "metadata": {},
   "outputs": [
    {
     "data": {
      "text/plain": [
       "dtype('int32')"
      ]
     },
     "execution_count": 21,
     "metadata": {},
     "output_type": "execute_result"
    }
   ],
   "source": [
    "sf.Reviews.dtype"
   ]
  },
  {
   "cell_type": "code",
   "execution_count": 22,
   "id": "190987d3",
   "metadata": {},
   "outputs": [
    {
     "data": {
      "image/png": "[encoded data removed]",
      "text/plain": [
       "<Figure size 1000x400 with 2 Axes>"
      ]
     },
     "metadata": {},
     "output_type": "display_data"
    }
   ],
   "source": [
    "sf['Log_Reviews'] = np.log(sf['Reviews'])\n",
    "\n",
    "\n",
    "fig, axs = plt.subplots(1, 2, figsize=(10, 4))\n",
    "axs[0].boxplot(sf['Reviews'])\n",
    "axs[0].set_title('Before Transformation ')\n",
    "axs[1].boxplot(sf['Log_Reviews'])\n",
    "axs[1].set_title('After Transformation')\n",
    "plt.show()"
   ]
  },
  {
   "cell_type": "markdown",
   "id": "1fa747f0",
   "metadata": {},
   "source": [
    "# Inference:-\n",
    "1.As we can see there are a lot of outlier in the Reviews feature which we have treated with log transformation."
   ]
  },
  {
   "cell_type": "markdown",
   "id": "d2be060a",
   "metadata": {},
   "source": [
    "9. The column 'Size' contains alphanumeric values, treat the non numeric data and convert the column into\n",
    "suitable data type. (hint: Replace M with 1 million and K with 1 thousand, and drop the entries where\n",
    "size='Varies with device')\n"
   ]
  },
  {
   "cell_type": "code",
   "execution_count": 23,
   "id": "0e817369",
   "metadata": {},
   "outputs": [],
   "source": [
    "sf['Size']=sf['Size'].str.replace('M','')\n",
    "sf['Size']=sf['Size'].str.replace('k','')\n"
   ]
  },
  {
   "cell_type": "code",
   "execution_count": null,
   "id": "3dafe4e6",
   "metadata": {},
   "outputs": [],
   "source": []
  },
  {
   "cell_type": "code",
   "execution_count": 24,
   "id": "56576aef",
   "metadata": {},
   "outputs": [],
   "source": [
    "sf.replace({'Size':{'Varies with device':np.nan}},inplace=True)"
   ]
  },
  {
   "cell_type": "code",
   "execution_count": 25,
   "id": "9467414b",
   "metadata": {},
   "outputs": [
    {
     "data": {
      "text/plain": [
       "App                   0\n",
       "Category              0\n",
       "Rating                0\n",
       "Reviews               0\n",
       "Size               1468\n",
       "Installs              0\n",
       "Type                  0\n",
       "Price                 0\n",
       "Content Rating        0\n",
       "Genres                0\n",
       "Last Updated          0\n",
       "Current Ver           0\n",
       "Android Ver           0\n",
       "Rating_category       0\n",
       "Log_Reviews           0\n",
       "dtype: int64"
      ]
     },
     "execution_count": 25,
     "metadata": {},
     "output_type": "execute_result"
    }
   ],
   "source": [
    "sf.isna().sum()"
   ]
  },
  {
   "cell_type": "code",
   "execution_count": 26,
   "id": "798d3a77",
   "metadata": {},
   "outputs": [],
   "source": [
    "sf.dropna(inplace=True)"
   ]
  },
  {
   "cell_type": "code",
   "execution_count": null,
   "id": "c632ec2c",
   "metadata": {},
   "outputs": [],
   "source": []
  },
  {
   "cell_type": "markdown",
   "id": "3e66340b",
   "metadata": {},
   "source": [
    "# Inference:-\n",
    "1.The size feature varible contains m and k as post_suffix so we have to remove them also it containg unsuitable value \"varies with device\" which we need to remove."
   ]
  },
  {
   "cell_type": "markdown",
   "id": "28ce1e5e",
   "metadata": {},
   "source": [
    "10. Check the column 'Installs', treat the unwanted characters and convert the column into a suitable data type.\n"
   ]
  },
  {
   "cell_type": "code",
   "execution_count": 27,
   "id": "1584ed63",
   "metadata": {},
   "outputs": [],
   "source": [
    "sf['Installs']=sf.Installs.str.replace(r'\\D','')"
   ]
  },
  {
   "cell_type": "code",
   "execution_count": 28,
   "id": "50f52939",
   "metadata": {},
   "outputs": [],
   "source": [
    "sf['Insatlls']=sf.Installs.astype(int)"
   ]
  },
  {
   "cell_type": "code",
   "execution_count": 29,
   "id": "ad6f2bf9",
   "metadata": {},
   "outputs": [
    {
     "data": {
      "text/plain": [
       "dtype('int32')"
      ]
     },
     "execution_count": 29,
     "metadata": {},
     "output_type": "execute_result"
    }
   ],
   "source": [
    "sf['Insatlls'].dtype"
   ]
  },
  {
   "cell_type": "markdown",
   "id": "be78731f",
   "metadata": {},
   "source": [
    "# inference:-\n",
    "1.Installs feature  contains unwanted character \"+\" as  suffixso we have removed them"
   ]
  },
  {
   "cell_type": "markdown",
   "id": "c1ff5a59",
   "metadata": {},
   "source": [
    "11. Check the column 'Price' , remove the unwanted characters and convert the column into a suitable data type"
   ]
  },
  {
   "cell_type": "code",
   "execution_count": 30,
   "id": "bc7b3186",
   "metadata": {},
   "outputs": [],
   "source": [
    "sf['Price']=sf.Price.str.replace(r'\\D','')"
   ]
  },
  {
   "cell_type": "code",
   "execution_count": 31,
   "id": "66863cef",
   "metadata": {},
   "outputs": [],
   "source": [
    "sf['Price']=sf['Price'].astype(int)"
   ]
  },
  {
   "cell_type": "code",
   "execution_count": 32,
   "id": "93cfe930",
   "metadata": {},
   "outputs": [],
   "source": [
    "sf.rename(columns={'Price':'Price_$'},inplace=True)"
   ]
  },
  {
   "cell_type": "code",
   "execution_count": 33,
   "id": "0c32c59a",
   "metadata": {},
   "outputs": [
    {
     "data": {
      "text/plain": [
       "Index(['App', 'Category', 'Rating', 'Reviews', 'Size', 'Installs', 'Type',\n",
       "       'Price_$', 'Content Rating', 'Genres', 'Last Updated', 'Current Ver',\n",
       "       'Android Ver', 'Rating_category', 'Log_Reviews', 'Insatlls'],\n",
       "      dtype='object')"
      ]
     },
     "execution_count": 33,
     "metadata": {},
     "output_type": "execute_result"
    }
   ],
   "source": [
    "sf.columns"
   ]
  },
  {
   "cell_type": "markdown",
   "id": "282bf9f1",
   "metadata": {},
   "source": [
    "# inference:-\n",
    "1.price feature variable contains \"$\" as unwanted character so we have to remvove them.\n"
   ]
  },
  {
   "cell_type": "markdown",
   "id": "202cef54",
   "metadata": {},
   "source": [
    "12. Drop the columns which you think redundant for the analysis.(suggestion: drop column 'rating', since we\n",
    "created a new feature from it (i.e. rating_category) and the columns 'App', 'Rating' ,'Genres','Last Updated',\n",
    "'Current Ver','Android Ver' columns since which are redundant for our analysis)\n"
   ]
  },
  {
   "cell_type": "code",
   "execution_count": 34,
   "id": "14e45f91",
   "metadata": {},
   "outputs": [],
   "source": [
    "sf.drop(columns={'App', 'Rating' ,'Genres','Last Updated', 'Current Ver','Android Ver' },axis=1,inplace=True)"
   ]
  },
  {
   "cell_type": "code",
   "execution_count": 35,
   "id": "fcbaa692",
   "metadata": {},
   "outputs": [
    {
     "data": {
      "text/plain": [
       "Index(['Category', 'Reviews', 'Size', 'Installs', 'Type', 'Price_$',\n",
       "       'Content Rating', 'Rating_category', 'Log_Reviews', 'Insatlls'],\n",
       "      dtype='object')"
      ]
     },
     "execution_count": 35,
     "metadata": {},
     "output_type": "execute_result"
    }
   ],
   "source": [
    "sf.columns"
   ]
  },
  {
   "cell_type": "code",
   "execution_count": 36,
   "id": "9c76d8e1",
   "metadata": {},
   "outputs": [
    {
     "data": {
      "text/html": [
       "<div>\n",
       "<style scoped>\n",
       "    .dataframe tbody tr th:only-of-type {\n",
       "        vertical-align: middle;\n",
       "    }\n",
       "\n",
       "    .dataframe tbody tr th {\n",
       "        vertical-align: top;\n",
       "    }\n",
       "\n",
       "    .dataframe thead th {\n",
       "        text-align: right;\n",
       "    }\n",
       "</style>\n",
       "<table border=\"1\" class=\"dataframe\">\n",
       "  <thead>\n",
       "    <tr style=\"text-align: right;\">\n",
       "      <th></th>\n",
       "      <th>Category</th>\n",
       "      <th>Reviews</th>\n",
       "      <th>Size</th>\n",
       "      <th>Installs</th>\n",
       "      <th>Type</th>\n",
       "      <th>Price_$</th>\n",
       "      <th>Content Rating</th>\n",
       "      <th>Rating_category</th>\n",
       "      <th>Log_Reviews</th>\n",
       "      <th>Insatlls</th>\n",
       "    </tr>\n",
       "  </thead>\n",
       "  <tbody>\n",
       "    <tr>\n",
       "      <th>0</th>\n",
       "      <td>ART_AND_DESIGN</td>\n",
       "      <td>159</td>\n",
       "      <td>19</td>\n",
       "      <td>10000</td>\n",
       "      <td>Free</td>\n",
       "      <td>0</td>\n",
       "      <td>Everyone</td>\n",
       "      <td>high</td>\n",
       "      <td>5.068904</td>\n",
       "      <td>10000</td>\n",
       "    </tr>\n",
       "    <tr>\n",
       "      <th>1</th>\n",
       "      <td>ART_AND_DESIGN</td>\n",
       "      <td>967</td>\n",
       "      <td>14</td>\n",
       "      <td>500000</td>\n",
       "      <td>Free</td>\n",
       "      <td>0</td>\n",
       "      <td>Everyone</td>\n",
       "      <td>high</td>\n",
       "      <td>6.874198</td>\n",
       "      <td>500000</td>\n",
       "    </tr>\n",
       "    <tr>\n",
       "      <th>2</th>\n",
       "      <td>ART_AND_DESIGN</td>\n",
       "      <td>87510</td>\n",
       "      <td>8.7</td>\n",
       "      <td>5000000</td>\n",
       "      <td>Free</td>\n",
       "      <td>0</td>\n",
       "      <td>Everyone</td>\n",
       "      <td>high</td>\n",
       "      <td>11.379508</td>\n",
       "      <td>5000000</td>\n",
       "    </tr>\n",
       "    <tr>\n",
       "      <th>3</th>\n",
       "      <td>ART_AND_DESIGN</td>\n",
       "      <td>215644</td>\n",
       "      <td>25</td>\n",
       "      <td>50000000</td>\n",
       "      <td>Free</td>\n",
       "      <td>0</td>\n",
       "      <td>Teen</td>\n",
       "      <td>high</td>\n",
       "      <td>12.281384</td>\n",
       "      <td>50000000</td>\n",
       "    </tr>\n",
       "    <tr>\n",
       "      <th>4</th>\n",
       "      <td>ART_AND_DESIGN</td>\n",
       "      <td>967</td>\n",
       "      <td>2.8</td>\n",
       "      <td>100000</td>\n",
       "      <td>Free</td>\n",
       "      <td>0</td>\n",
       "      <td>Everyone</td>\n",
       "      <td>high</td>\n",
       "      <td>6.874198</td>\n",
       "      <td>100000</td>\n",
       "    </tr>\n",
       "  </tbody>\n",
       "</table>\n",
       "</div>"
      ],
      "text/plain": [
       "         Category  Reviews Size  Installs  Type  Price_$ Content Rating  \\\n",
       "0  ART_AND_DESIGN      159   19     10000  Free        0       Everyone   \n",
       "1  ART_AND_DESIGN      967   14    500000  Free        0       Everyone   \n",
       "2  ART_AND_DESIGN    87510  8.7   5000000  Free        0       Everyone   \n",
       "3  ART_AND_DESIGN   215644   25  50000000  Free        0           Teen   \n",
       "4  ART_AND_DESIGN      967  2.8    100000  Free        0       Everyone   \n",
       "\n",
       "  Rating_category  Log_Reviews  Insatlls  \n",
       "0            high     5.068904     10000  \n",
       "1            high     6.874198    500000  \n",
       "2            high    11.379508   5000000  \n",
       "3            high    12.281384  50000000  \n",
       "4            high     6.874198    100000  "
      ]
     },
     "execution_count": 36,
     "metadata": {},
     "output_type": "execute_result"
    }
   ],
   "source": [
    "sf.head()"
   ]
  },
  {
   "cell_type": "code",
   "execution_count": 37,
   "id": "21038518",
   "metadata": {},
   "outputs": [
    {
     "data": {
      "text/plain": [
       "array(['Everyone', 'Teen', 'Everyone 10+', 'Mature 17+',\n",
       "       'Adults only 18+', 'Unrated'], dtype=object)"
      ]
     },
     "execution_count": 37,
     "metadata": {},
     "output_type": "execute_result"
    }
   ],
   "source": [
    "sf['Content Rating'].unique()"
   ]
  },
  {
   "cell_type": "markdown",
   "id": "9ac08843",
   "metadata": {},
   "source": [
    "# inference:-\n",
    "1. There are some irrelevant columns like  'App', 'Rating' ,'Genres','Last Updated', 'Current Ver','Android Ver' so we need to drop them. "
   ]
  },
  {
   "cell_type": "markdown",
   "id": "4bac93e9",
   "metadata": {},
   "source": [
    "13. Encode the categorical columns."
   ]
  },
  {
   "cell_type": "code",
   "execution_count": 38,
   "id": "f29dc4a9",
   "metadata": {},
   "outputs": [],
   "source": [
    "le=LabelEncoder()\n",
    "sf.iloc[:,[7]]=sf.iloc[:,[7]].apply(le.fit_transform) #o as high 1 as low"
   ]
  },
  {
   "cell_type": "code",
   "execution_count": 39,
   "id": "14b101ba",
   "metadata": {},
   "outputs": [
    {
     "data": {
      "text/plain": [
       "Rating_category\n",
       "0                  6594\n",
       "1                   824\n",
       "dtype: int64"
      ]
     },
     "execution_count": 39,
     "metadata": {},
     "output_type": "execute_result"
    }
   ],
   "source": [
    "sf.iloc[:,[7]].value_counts()"
   ]
  },
  {
   "cell_type": "code",
   "execution_count": 51,
   "id": "7f94de75",
   "metadata": {},
   "outputs": [],
   "source": [
    "sf1=sf.copy()\n"
   ]
  },
  {
   "cell_type": "code",
   "execution_count": 52,
   "id": "b9f7e8ef",
   "metadata": {},
   "outputs": [
    {
     "data": {
      "text/html": [
       "<div>\n",
       "<style scoped>\n",
       "    .dataframe tbody tr th:only-of-type {\n",
       "        vertical-align: middle;\n",
       "    }\n",
       "\n",
       "    .dataframe tbody tr th {\n",
       "        vertical-align: top;\n",
       "    }\n",
       "\n",
       "    .dataframe thead th {\n",
       "        text-align: right;\n",
       "    }\n",
       "</style>\n",
       "<table border=\"1\" class=\"dataframe\">\n",
       "  <thead>\n",
       "    <tr style=\"text-align: right;\">\n",
       "      <th></th>\n",
       "      <th>Reviews</th>\n",
       "      <th>Price_$</th>\n",
       "      <th>Rating_category</th>\n",
       "      <th>Log_Reviews</th>\n",
       "      <th>Insatlls</th>\n",
       "    </tr>\n",
       "  </thead>\n",
       "  <tbody>\n",
       "    <tr>\n",
       "      <th>Reviews</th>\n",
       "      <td>1.000000</td>\n",
       "      <td>-0.010015</td>\n",
       "      <td>-0.055529</td>\n",
       "      <td>0.332515</td>\n",
       "      <td>0.632032</td>\n",
       "    </tr>\n",
       "    <tr>\n",
       "      <th>Price_$</th>\n",
       "      <td>-0.010015</td>\n",
       "      <td>1.000000</td>\n",
       "      <td>0.004069</td>\n",
       "      <td>-0.037595</td>\n",
       "      <td>-0.010627</td>\n",
       "    </tr>\n",
       "    <tr>\n",
       "      <th>Rating_category</th>\n",
       "      <td>-0.055529</td>\n",
       "      <td>0.004069</td>\n",
       "      <td>1.000000</td>\n",
       "      <td>-0.233486</td>\n",
       "      <td>-0.055892</td>\n",
       "    </tr>\n",
       "    <tr>\n",
       "      <th>Log_Reviews</th>\n",
       "      <td>0.332515</td>\n",
       "      <td>-0.037595</td>\n",
       "      <td>-0.233486</td>\n",
       "      <td>1.000000</td>\n",
       "      <td>0.312519</td>\n",
       "    </tr>\n",
       "    <tr>\n",
       "      <th>Insatlls</th>\n",
       "      <td>0.632032</td>\n",
       "      <td>-0.010627</td>\n",
       "      <td>-0.055892</td>\n",
       "      <td>0.312519</td>\n",
       "      <td>1.000000</td>\n",
       "    </tr>\n",
       "  </tbody>\n",
       "</table>\n",
       "</div>"
      ],
      "text/plain": [
       "                  Reviews   Price_$  Rating_category  Log_Reviews  Insatlls\n",
       "Reviews          1.000000 -0.010015        -0.055529     0.332515  0.632032\n",
       "Price_$         -0.010015  1.000000         0.004069    -0.037595 -0.010627\n",
       "Rating_category -0.055529  0.004069         1.000000    -0.233486 -0.055892\n",
       "Log_Reviews      0.332515 -0.037595        -0.233486     1.000000  0.312519\n",
       "Insatlls         0.632032 -0.010627        -0.055892     0.312519  1.000000"
      ]
     },
     "execution_count": 52,
     "metadata": {},
     "output_type": "execute_result"
    }
   ],
   "source": [
    "sf1.corr()"
   ]
  },
  {
   "cell_type": "code",
   "execution_count": 53,
   "id": "9fc9da82",
   "metadata": {},
   "outputs": [
    {
     "data": {
      "text/plain": [
       "array(['10000', '500000', '5000000', '50000000', '100000', '50000',\n",
       "       '1000000', '10000000', '5000', '100000000', '1000', '500000000',\n",
       "       '100', '500', '10', '1000000000', '5', '50', '1'], dtype=object)"
      ]
     },
     "execution_count": 53,
     "metadata": {},
     "output_type": "execute_result"
    }
   ],
   "source": [
    "sf1.Installs.unique()"
   ]
  },
  {
   "cell_type": "code",
   "execution_count": 56,
   "id": "7916f45b",
   "metadata": {},
   "outputs": [],
   "source": [
    "sf1['Size']=sf1['Size'].astype(float)"
   ]
  },
  {
   "cell_type": "code",
   "execution_count": 57,
   "id": "b0154e2f",
   "metadata": {},
   "outputs": [
    {
     "data": {
      "text/plain": [
       "dtype('float64')"
      ]
     },
     "execution_count": 57,
     "metadata": {},
     "output_type": "execute_result"
    }
   ],
   "source": [
    "sf1.Size.dtype"
   ]
  },
  {
   "cell_type": "code",
   "execution_count": 58,
   "id": "63688891",
   "metadata": {},
   "outputs": [],
   "source": [
    "\n",
    "sf1['Installs']=sf1['Installs'].astype(int)"
   ]
  },
  {
   "cell_type": "code",
   "execution_count": 59,
   "id": "e0d724c5",
   "metadata": {},
   "outputs": [
    {
     "data": {
      "text/plain": [
       "dtype('int32')"
      ]
     },
     "execution_count": 59,
     "metadata": {},
     "output_type": "execute_result"
    }
   ],
   "source": [
    "sf1.Installs.dtype"
   ]
  },
  {
   "cell_type": "code",
   "execution_count": 60,
   "id": "aac432bb",
   "metadata": {},
   "outputs": [
    {
     "data": {
      "text/html": [
       "<div>\n",
       "<style scoped>\n",
       "    .dataframe tbody tr th:only-of-type {\n",
       "        vertical-align: middle;\n",
       "    }\n",
       "\n",
       "    .dataframe tbody tr th {\n",
       "        vertical-align: top;\n",
       "    }\n",
       "\n",
       "    .dataframe thead th {\n",
       "        text-align: right;\n",
       "    }\n",
       "</style>\n",
       "<table border=\"1\" class=\"dataframe\">\n",
       "  <thead>\n",
       "    <tr style=\"text-align: right;\">\n",
       "      <th></th>\n",
       "      <th>Reviews</th>\n",
       "      <th>Size</th>\n",
       "      <th>Installs</th>\n",
       "      <th>Price_$</th>\n",
       "      <th>Rating_category</th>\n",
       "      <th>Log_Reviews</th>\n",
       "      <th>Insatlls</th>\n",
       "      <th>Category_AUTO_AND_VEHICLES</th>\n",
       "      <th>Category_BEAUTY</th>\n",
       "      <th>Category_BOOKS_AND_REFERENCE</th>\n",
       "      <th>...</th>\n",
       "      <th>Category_TOOLS</th>\n",
       "      <th>Category_TRAVEL_AND_LOCAL</th>\n",
       "      <th>Category_VIDEO_PLAYERS</th>\n",
       "      <th>Category_WEATHER</th>\n",
       "      <th>Type_Paid</th>\n",
       "      <th>Content Rating_Everyone</th>\n",
       "      <th>Content Rating_Everyone 10+</th>\n",
       "      <th>Content Rating_Mature 17+</th>\n",
       "      <th>Content Rating_Teen</th>\n",
       "      <th>Content Rating_Unrated</th>\n",
       "    </tr>\n",
       "  </thead>\n",
       "  <tbody>\n",
       "    <tr>\n",
       "      <th>0</th>\n",
       "      <td>159</td>\n",
       "      <td>19.0</td>\n",
       "      <td>10000</td>\n",
       "      <td>0</td>\n",
       "      <td>0</td>\n",
       "      <td>5.068904</td>\n",
       "      <td>10000</td>\n",
       "      <td>0</td>\n",
       "      <td>0</td>\n",
       "      <td>0</td>\n",
       "      <td>...</td>\n",
       "      <td>0</td>\n",
       "      <td>0</td>\n",
       "      <td>0</td>\n",
       "      <td>0</td>\n",
       "      <td>0</td>\n",
       "      <td>1</td>\n",
       "      <td>0</td>\n",
       "      <td>0</td>\n",
       "      <td>0</td>\n",
       "      <td>0</td>\n",
       "    </tr>\n",
       "    <tr>\n",
       "      <th>1</th>\n",
       "      <td>967</td>\n",
       "      <td>14.0</td>\n",
       "      <td>500000</td>\n",
       "      <td>0</td>\n",
       "      <td>0</td>\n",
       "      <td>6.874198</td>\n",
       "      <td>500000</td>\n",
       "      <td>0</td>\n",
       "      <td>0</td>\n",
       "      <td>0</td>\n",
       "      <td>...</td>\n",
       "      <td>0</td>\n",
       "      <td>0</td>\n",
       "      <td>0</td>\n",
       "      <td>0</td>\n",
       "      <td>0</td>\n",
       "      <td>1</td>\n",
       "      <td>0</td>\n",
       "      <td>0</td>\n",
       "      <td>0</td>\n",
       "      <td>0</td>\n",
       "    </tr>\n",
       "    <tr>\n",
       "      <th>2</th>\n",
       "      <td>87510</td>\n",
       "      <td>8.7</td>\n",
       "      <td>5000000</td>\n",
       "      <td>0</td>\n",
       "      <td>0</td>\n",
       "      <td>11.379508</td>\n",
       "      <td>5000000</td>\n",
       "      <td>0</td>\n",
       "      <td>0</td>\n",
       "      <td>0</td>\n",
       "      <td>...</td>\n",
       "      <td>0</td>\n",
       "      <td>0</td>\n",
       "      <td>0</td>\n",
       "      <td>0</td>\n",
       "      <td>0</td>\n",
       "      <td>1</td>\n",
       "      <td>0</td>\n",
       "      <td>0</td>\n",
       "      <td>0</td>\n",
       "      <td>0</td>\n",
       "    </tr>\n",
       "    <tr>\n",
       "      <th>3</th>\n",
       "      <td>215644</td>\n",
       "      <td>25.0</td>\n",
       "      <td>50000000</td>\n",
       "      <td>0</td>\n",
       "      <td>0</td>\n",
       "      <td>12.281384</td>\n",
       "      <td>50000000</td>\n",
       "      <td>0</td>\n",
       "      <td>0</td>\n",
       "      <td>0</td>\n",
       "      <td>...</td>\n",
       "      <td>0</td>\n",
       "      <td>0</td>\n",
       "      <td>0</td>\n",
       "      <td>0</td>\n",
       "      <td>0</td>\n",
       "      <td>0</td>\n",
       "      <td>0</td>\n",
       "      <td>0</td>\n",
       "      <td>1</td>\n",
       "      <td>0</td>\n",
       "    </tr>\n",
       "    <tr>\n",
       "      <th>4</th>\n",
       "      <td>967</td>\n",
       "      <td>2.8</td>\n",
       "      <td>100000</td>\n",
       "      <td>0</td>\n",
       "      <td>0</td>\n",
       "      <td>6.874198</td>\n",
       "      <td>100000</td>\n",
       "      <td>0</td>\n",
       "      <td>0</td>\n",
       "      <td>0</td>\n",
       "      <td>...</td>\n",
       "      <td>0</td>\n",
       "      <td>0</td>\n",
       "      <td>0</td>\n",
       "      <td>0</td>\n",
       "      <td>0</td>\n",
       "      <td>1</td>\n",
       "      <td>0</td>\n",
       "      <td>0</td>\n",
       "      <td>0</td>\n",
       "      <td>0</td>\n",
       "    </tr>\n",
       "  </tbody>\n",
       "</table>\n",
       "<p>5 rows × 45 columns</p>\n",
       "</div>"
      ],
      "text/plain": [
       "   Reviews  Size  Installs  Price_$  Rating_category  Log_Reviews  Insatlls  \\\n",
       "0      159  19.0     10000        0                0     5.068904     10000   \n",
       "1      967  14.0    500000        0                0     6.874198    500000   \n",
       "2    87510   8.7   5000000        0                0    11.379508   5000000   \n",
       "3   215644  25.0  50000000        0                0    12.281384  50000000   \n",
       "4      967   2.8    100000        0                0     6.874198    100000   \n",
       "\n",
       "   Category_AUTO_AND_VEHICLES  Category_BEAUTY  Category_BOOKS_AND_REFERENCE  \\\n",
       "0                           0                0                             0   \n",
       "1                           0                0                             0   \n",
       "2                           0                0                             0   \n",
       "3                           0                0                             0   \n",
       "4                           0                0                             0   \n",
       "\n",
       "   ...  Category_TOOLS  Category_TRAVEL_AND_LOCAL  Category_VIDEO_PLAYERS  \\\n",
       "0  ...               0                          0                       0   \n",
       "1  ...               0                          0                       0   \n",
       "2  ...               0                          0                       0   \n",
       "3  ...               0                          0                       0   \n",
       "4  ...               0                          0                       0   \n",
       "\n",
       "   Category_WEATHER  Type_Paid  Content Rating_Everyone  \\\n",
       "0                 0          0                        1   \n",
       "1                 0          0                        1   \n",
       "2                 0          0                        1   \n",
       "3                 0          0                        0   \n",
       "4                 0          0                        1   \n",
       "\n",
       "   Content Rating_Everyone 10+  Content Rating_Mature 17+  \\\n",
       "0                            0                          0   \n",
       "1                            0                          0   \n",
       "2                            0                          0   \n",
       "3                            0                          0   \n",
       "4                            0                          0   \n",
       "\n",
       "   Content Rating_Teen  Content Rating_Unrated  \n",
       "0                    0                       0  \n",
       "1                    0                       0  \n",
       "2                    0                       0  \n",
       "3                    1                       0  \n",
       "4                    0                       0  \n",
       "\n",
       "[5 rows x 45 columns]"
      ]
     },
     "execution_count": 60,
     "metadata": {},
     "output_type": "execute_result"
    }
   ],
   "source": [
    "sf1 = pd.get_dummies(sf1, columns=['Category','Type','Content Rating'],drop_first=True)\n",
    "sf1.head()"
   ]
  },
  {
   "cell_type": "code",
   "execution_count": null,
   "id": "4897fb87",
   "metadata": {},
   "outputs": [],
   "source": []
  },
  {
   "cell_type": "markdown",
   "id": "6b78384a",
   "metadata": {
    "scrolled": true
   },
   "source": [
    "# Inference:-\n",
    "1. We have encoded the Rating_category  by label encoder as it contains ordinal data .\n",
    "2. whereas fetaure like 'Category','Type','Content Rating' containns norminal data so we have used encoding technique dummy_encoding"
   ]
  },
  {
   "cell_type": "markdown",
   "id": "2ba48111",
   "metadata": {},
   "source": [
    "14. Segregate the target and independent features (Hint: Use Rating_category as the target)"
   ]
  },
  {
   "cell_type": "code",
   "execution_count": null,
   "id": "c383e0c4",
   "metadata": {},
   "outputs": [],
   "source": []
  },
  {
   "cell_type": "code",
   "execution_count": 61,
   "id": "96861fcb",
   "metadata": {},
   "outputs": [],
   "source": [
    "x = sf1.drop('Rating_category', axis=1)\n",
    "\n",
    "\n",
    "\n",
    "y = sf1[['Rating_category']]\n",
    "\n",
    "\n",
    "\n",
    "x_train, x_test, y_train, y_test = train_test_split(x, y, test_size=0.30 , random_state=1)"
   ]
  },
  {
   "cell_type": "code",
   "execution_count": 62,
   "id": "de031b04",
   "metadata": {},
   "outputs": [
    {
     "name": "stdout",
     "output_type": "stream",
     "text": [
      "      Reviews  Size  Installs  Price_$  Log_Reviews  Insatlls  \\\n",
      "4407    29505  69.0   1000000        0    10.292315   1000000   \n",
      "5679    24312  25.0    500000        0    10.098725    500000   \n",
      "6119        3  10.0        50        0     1.098612        50   \n",
      "1564      601   5.1    100000        0     6.398595    100000   \n",
      "8295    54034   5.8   5000000        0    10.897369   5000000   \n",
      "\n",
      "      Category_AUTO_AND_VEHICLES  Category_BEAUTY  \\\n",
      "4407                           0                0   \n",
      "5679                           0                0   \n",
      "6119                           0                0   \n",
      "1564                           0                0   \n",
      "8295                           0                0   \n",
      "\n",
      "      Category_BOOKS_AND_REFERENCE  Category_BUSINESS  ...  Category_TOOLS  \\\n",
      "4407                             0                  0  ...               0   \n",
      "5679                             0                  0  ...               0   \n",
      "6119                             0                  0  ...               0   \n",
      "1564                             0                  0  ...               0   \n",
      "8295                             0                  0  ...               0   \n",
      "\n",
      "      Category_TRAVEL_AND_LOCAL  Category_VIDEO_PLAYERS  Category_WEATHER  \\\n",
      "4407                          0                       0                 0   \n",
      "5679                          0                       0                 0   \n",
      "6119                          0                       0                 0   \n",
      "1564                          0                       0                 0   \n",
      "8295                          0                       0                 0   \n",
      "\n",
      "      Type_Paid  Content Rating_Everyone  Content Rating_Everyone 10+  \\\n",
      "4407          0                        1                            0   \n",
      "5679          0                        1                            0   \n",
      "6119          0                        1                            0   \n",
      "1564          0                        1                            0   \n",
      "8295          0                        0                            0   \n",
      "\n",
      "      Content Rating_Mature 17+  Content Rating_Teen  Content Rating_Unrated  \n",
      "4407                          0                    0                       0  \n",
      "5679                          0                    0                       0  \n",
      "6119                          0                    0                       0  \n",
      "1564                          0                    0                       0  \n",
      "8295                          0                    1                       0  \n",
      "\n",
      "[5 rows x 44 columns]        Reviews  Size   Installs  Price_$  Log_Reviews   Insatlls  \\\n",
      "2655   6210998  15.0  100000000        0    15.641832  100000000   \n",
      "9095       642   3.2      10000        0     6.464588      10000   \n",
      "10229      108   2.8      10000        0     4.682131      10000   \n",
      "3224    149723   4.1   10000000        0    11.916542   10000000   \n",
      "6891     10006  53.0    1000000        0     9.210940    1000000   \n",
      "\n",
      "       Category_AUTO_AND_VEHICLES  Category_BEAUTY  \\\n",
      "2655                            0                0   \n",
      "9095                            0                0   \n",
      "10229                           0                0   \n",
      "3224                            0                0   \n",
      "6891                            0                0   \n",
      "\n",
      "       Category_BOOKS_AND_REFERENCE  Category_BUSINESS  ...  Category_TOOLS  \\\n",
      "2655                              0                  0  ...               0   \n",
      "9095                              0                  0  ...               0   \n",
      "10229                             0                  0  ...               0   \n",
      "3224                              0                  0  ...               0   \n",
      "6891                              0                  0  ...               0   \n",
      "\n",
      "       Category_TRAVEL_AND_LOCAL  Category_VIDEO_PLAYERS  Category_WEATHER  \\\n",
      "2655                           0                       0                 0   \n",
      "9095                           0                       0                 0   \n",
      "10229                          0                       0                 0   \n",
      "3224                           1                       0                 0   \n",
      "6891                           0                       0                 0   \n",
      "\n",
      "       Type_Paid  Content Rating_Everyone  Content Rating_Everyone 10+  \\\n",
      "2655           0                        1                            0   \n",
      "9095           0                        1                            0   \n",
      "10229          0                        0                            0   \n",
      "3224           0                        1                            0   \n",
      "6891           0                        1                            0   \n",
      "\n",
      "       Content Rating_Mature 17+  Content Rating_Teen  Content Rating_Unrated  \n",
      "2655                           0                    0                       0  \n",
      "9095                           0                    0                       0  \n",
      "10229                          0                    1                       0  \n",
      "3224                           0                    0                       0  \n",
      "6891                           0                    0                       0  \n",
      "\n",
      "[5 rows x 44 columns]       Rating_category\n",
      "4407                0\n",
      "5679                0\n",
      "6119                0\n",
      "1564                0\n",
      "8295                0        Rating_category\n",
      "2655                 0\n",
      "9095                 0\n",
      "10229                0\n",
      "3224                 0\n",
      "6891                 1\n"
     ]
    }
   ],
   "source": [
    "print(x_train.head(), x_test.head(), y_train.head(), y_test.head())"
   ]
  },
  {
   "cell_type": "code",
   "execution_count": 63,
   "id": "65ca4e45",
   "metadata": {},
   "outputs": [
    {
     "name": "stdout",
     "output_type": "stream",
     "text": [
      "(5192, 44) (2226, 44)\n",
      "(5192, 1) (2226, 1)\n"
     ]
    }
   ],
   "source": [
    "print(x_train.shape,x_test.shape)\n",
    "print(y_train.shape,y_test.shape)"
   ]
  },
  {
   "cell_type": "code",
   "execution_count": 57,
   "id": "59492e41",
   "metadata": {},
   "outputs": [
    {
     "data": {
      "text/plain": [
       "dtype('O')"
      ]
     },
     "execution_count": 57,
     "metadata": {},
     "output_type": "execute_result"
    }
   ],
   "source": []
  },
  {
   "cell_type": "code",
   "execution_count": 64,
   "id": "a3a3983f",
   "metadata": {},
   "outputs": [],
   "source": [
    "#mylist = list(sf1.select_dtypes(include=['O']).columns)\n",
    "#mylist"
   ]
  },
  {
   "cell_type": "code",
   "execution_count": null,
   "id": "ca5f5bc8",
   "metadata": {},
   "outputs": [],
   "source": []
  },
  {
   "cell_type": "markdown",
   "id": "188d10a2",
   "metadata": {},
   "source": [
    "# inference:-\n",
    "1.we have used Rating_category as Target variable while others as independent features\n"
   ]
  },
  {
   "cell_type": "markdown",
   "id": "fa554292",
   "metadata": {},
   "source": [
    "15. Split the dataset into train and test.\n"
   ]
  },
  {
   "cell_type": "code",
   "execution_count": null,
   "id": "de72cab7",
   "metadata": {},
   "outputs": [],
   "source": [
    "x = sf1.drop('Rating_category', axis=1)\n",
    "\n",
    "\n",
    "\n",
    "y = sf1[['Rating_category']]\n",
    "\n",
    "\n",
    "\n",
    "x_train, x_test, y_train, y_test = train_test_split(x, y, test_size=0.30 , random_state=1)"
   ]
  },
  {
   "cell_type": "code",
   "execution_count": null,
   "id": "df6f2312",
   "metadata": {},
   "outputs": [],
   "source": [
    "print(x_train.head(), x_test.head(), y_train.head(), y_test.head())"
   ]
  },
  {
   "cell_type": "code",
   "execution_count": null,
   "id": "91adc3b1",
   "metadata": {},
   "outputs": [],
   "source": [
    "print(x_train.shape,x_test.shape)\n",
    "print(y_train.shape,y_test.shape)"
   ]
  },
  {
   "cell_type": "code",
   "execution_count": null,
   "id": "731c90ee",
   "metadata": {},
   "outputs": [],
   "source": []
  },
  {
   "cell_type": "code",
   "execution_count": null,
   "id": "34963ec6",
   "metadata": {},
   "outputs": [],
   "source": []
  },
  {
   "cell_type": "markdown",
   "id": "7a65ee0c",
   "metadata": {},
   "source": [
    "16. Standardize the data, so that the values are within a particular range.\n"
   ]
  },
  {
   "cell_type": "code",
   "execution_count": 65,
   "id": "33ca7002",
   "metadata": {},
   "outputs": [],
   "source": [
    "X_train_scaled  = x_train.apply(zscore)\n",
    "X_test_scaled = x_test.apply(zscore)\n",
    "y_train_scaled = y_train.apply(zscore)\n",
    "y_test_scaled = y_test.apply(zscore)"
   ]
  },
  {
   "cell_type": "code",
   "execution_count": 67,
   "id": "54d1d3b4",
   "metadata": {},
   "outputs": [
    {
     "name": "stdout",
     "output_type": "stream",
     "text": [
      "       Reviews      Size  Installs   Price_$  Log_Reviews  Insatlls  \\\n",
      "4407 -0.141868  0.315507 -0.154180 -0.064843     0.712517 -0.154180   \n",
      "5679 -0.144763 -0.142240 -0.165647 -0.064843     0.660818 -0.165647   \n",
      "6119 -0.158317 -0.298290 -0.177113 -0.064843    -1.742668 -0.177113   \n",
      "1564 -0.157983 -0.349266 -0.174821 -0.064843    -0.327304 -0.174821   \n",
      "8295 -0.128192 -0.341984 -0.062445 -0.064843     0.874097 -0.062445   \n",
      "\n",
      "      Category_AUTO_AND_VEHICLES  Category_BEAUTY  \\\n",
      "4407                   -0.093504        -0.070943   \n",
      "5679                   -0.093504        -0.070943   \n",
      "6119                   -0.093504        -0.070943   \n",
      "1564                   -0.093504        -0.070943   \n",
      "8295                   -0.093504        -0.070943   \n",
      "\n",
      "      Category_BOOKS_AND_REFERENCE  Category_BUSINESS  ...  Category_TOOLS  \\\n",
      "4407                     -0.135789           -0.17889  ...       -0.302018   \n",
      "5679                     -0.135789           -0.17889  ...       -0.302018   \n",
      "6119                     -0.135789           -0.17889  ...       -0.302018   \n",
      "1564                     -0.135789           -0.17889  ...       -0.302018   \n",
      "8295                     -0.135789           -0.17889  ...       -0.302018   \n",
      "\n",
      "      Category_TRAVEL_AND_LOCAL  Category_VIDEO_PLAYERS  Category_WEATHER  \\\n",
      "4407                  -0.142969                -0.12589         -0.083559   \n",
      "5679                  -0.142969                -0.12589         -0.083559   \n",
      "6119                  -0.142969                -0.12589         -0.083559   \n",
      "1564                  -0.142969                -0.12589         -0.083559   \n",
      "8295                  -0.142969                -0.12589         -0.083559   \n",
      "\n",
      "      Type_Paid  Content Rating_Everyone  Content Rating_Everyone 10+  \\\n",
      "4407  -0.280616                 0.492948                    -0.206326   \n",
      "5679  -0.280616                 0.492948                    -0.206326   \n",
      "6119  -0.280616                 0.492948                    -0.206326   \n",
      "1564  -0.280616                 0.492948                    -0.206326   \n",
      "8295  -0.280616                -2.028613                    -0.206326   \n",
      "\n",
      "      Content Rating_Mature 17+  Content Rating_Teen  Content Rating_Unrated  \n",
      "4407                  -0.215785            -0.350828                -0.01388  \n",
      "5679                  -0.215785            -0.350828                -0.01388  \n",
      "6119                  -0.215785            -0.350828                -0.01388  \n",
      "1564                  -0.215785            -0.350828                -0.01388  \n",
      "8295                  -0.215785             2.850400                -0.01388  \n",
      "\n",
      "[5 rows x 44 columns]         Reviews      Size  Installs   Price_$  Log_Reviews  Insatlls  \\\n",
      "2655   3.661690 -0.217583  1.764120 -0.058748     2.172729  1.764120   \n",
      "9095  -0.164365 -0.345496 -0.154881 -0.058748    -0.298771 -0.154881   \n",
      "10229 -0.164694 -0.349832 -0.154881 -0.058748    -0.778799 -0.154881   \n",
      "3224  -0.072520 -0.335740  0.036846 -0.058748     1.169481  0.036846   \n",
      "6891  -0.158596  0.194340 -0.135881 -0.058748     0.440842 -0.135881   \n",
      "\n",
      "       Category_AUTO_AND_VEHICLES  Category_BEAUTY  \\\n",
      "2655                    -0.090289        -0.070471   \n",
      "9095                    -0.090289        -0.070471   \n",
      "10229                   -0.090289        -0.070471   \n",
      "3224                    -0.090289        -0.070471   \n",
      "6891                    -0.090289        -0.070471   \n",
      "\n",
      "       Category_BOOKS_AND_REFERENCE  Category_BUSINESS  ...  Category_TOOLS  \\\n",
      "2655                      -0.150027          -0.172053  ...       -0.313328   \n",
      "9095                      -0.150027          -0.172053  ...       -0.313328   \n",
      "10229                     -0.150027          -0.172053  ...       -0.313328   \n",
      "3224                      -0.150027          -0.172053  ...       -0.313328   \n",
      "6891                      -0.150027          -0.172053  ...       -0.313328   \n",
      "\n",
      "       Category_TRAVEL_AND_LOCAL  Category_VIDEO_PLAYERS  Category_WEATHER  \\\n",
      "2655                   -0.140348                -0.12639         -0.082367   \n",
      "9095                   -0.140348                -0.12639         -0.082367   \n",
      "10229                  -0.140348                -0.12639         -0.082367   \n",
      "3224                    7.125127                -0.12639         -0.082367   \n",
      "6891                   -0.140348                -0.12639         -0.082367   \n",
      "\n",
      "       Type_Paid  Content Rating_Everyone  Content Rating_Everyone 10+  \\\n",
      "2655   -0.283871                 0.504068                    -0.201676   \n",
      "9095   -0.283871                 0.504068                    -0.201676   \n",
      "10229  -0.283871                -1.983859                    -0.201676   \n",
      "3224   -0.283871                 0.504068                    -0.201676   \n",
      "6891   -0.283871                 0.504068                    -0.201676   \n",
      "\n",
      "       Content Rating_Mature 17+  Content Rating_Teen  Content Rating_Unrated  \n",
      "2655                   -0.218012            -0.366031                     NaN  \n",
      "9095                   -0.218012            -0.366031                     NaN  \n",
      "10229                  -0.218012             2.732010                     NaN  \n",
      "3224                   -0.218012            -0.366031                     NaN  \n",
      "6891                   -0.218012            -0.366031                     NaN  \n",
      "\n",
      "[5 rows x 44 columns]       Rating_category\n",
      "4407           -0.356\n",
      "5679           -0.356\n",
      "6119           -0.356\n",
      "1564           -0.356\n",
      "8295           -0.356        Rating_category\n",
      "2655         -0.347629\n",
      "9095         -0.347629\n",
      "10229        -0.347629\n",
      "3224         -0.347629\n",
      "6891          2.876630\n"
     ]
    }
   ],
   "source": [
    "print(X_train_scaled.head() ,X_test_scaled.head(),y_train_scaled.head(),y_test_scaled.head())"
   ]
  },
  {
   "cell_type": "markdown",
   "id": "1ed94b91",
   "metadata": {},
   "source": [
    "# Inference:-\n",
    "1.After that we have used z-score for standadization purpose the standization will convert the whole dataset to range between -3 to +3"
   ]
  },
  {
   "cell_type": "code",
   "execution_count": null,
   "id": "869e64b2",
   "metadata": {},
   "outputs": [],
   "source": []
  }
 ],
 "metadata": {
  "kernelspec": {
   "display_name": "Python 3 (ipykernel)",
   "language": "python",
   "name": "python3"
  },
  "language_info": {
   "codemirror_mode": {
    "name": "ipython",
    "version": 3
   },
   "file_extension": ".py",
   "mimetype": "text/x-python",
   "name": "python",
   "nbconvert_exporter": "python",
   "pygments_lexer": "ipython3",
   "version": "3.10.9"
  }
 },
 "nbformat": 4,
 "nbformat_minor": 5
}
